{
 "cells": [
  {
   "cell_type": "markdown",
   "metadata": {
    "collapsed": true
   },
   "source": [
    "# Chapter 2: Corpus Processing Tools\n",
    "Pierre Nugues"
   ]
  },
  {
   "cell_type": "markdown",
   "metadata": {},
   "source": [
    "We use the `regex` module to have a better Unicode support"
   ]
  },
  {
   "cell_type": "code",
   "execution_count": null,
   "metadata": {},
   "outputs": [],
   "source": [
    "import regex as re"
   ]
  },
  {
   "cell_type": "markdown",
   "metadata": {},
   "source": [
    "## Matching one occurrence"
   ]
  },
  {
   "cell_type": "markdown",
   "metadata": {},
   "source": [
    "#### A first match with `re.search()`"
   ]
  },
  {
   "cell_type": "code",
   "execution_count": null,
   "metadata": {},
   "outputs": [],
   "source": [
    "line = 'The aerial acceleration alerted the ace pilot'\n",
    "match = re.search('ab*c', line)\n",
    "match      # <regex.Match object; span=(11, 13), match='ac'>"
   ]
  },
  {
   "cell_type": "markdown",
   "metadata": {},
   "source": [
    "#### Getting the match value"
   ]
  },
  {
   "cell_type": "code",
   "execution_count": null,
   "metadata": {
    "scrolled": false
   },
   "outputs": [],
   "source": [
    "match.group() # ac"
   ]
  },
  {
   "cell_type": "markdown",
   "metadata": {},
   "source": [
    "## Getting all the matches"
   ]
  },
  {
   "cell_type": "markdown",
   "metadata": {},
   "source": [
    "#### The list of all the strings"
   ]
  },
  {
   "cell_type": "code",
   "execution_count": null,
   "metadata": {},
   "outputs": [],
   "source": [
    "match_list = re.findall('ab*c', line)   # ['ac', 'ac']\n",
    "match_list"
   ]
  },
  {
   "cell_type": "markdown",
   "metadata": {},
   "source": [
    "#### The match groups (the objects)"
   ]
  },
  {
   "cell_type": "code",
   "execution_count": null,
   "metadata": {},
   "outputs": [],
   "source": [
    "match_iter = re.finditer('ab*c', line)   \n",
    "list(match_iter)"
   ]
  },
  {
   "cell_type": "markdown",
   "metadata": {},
   "source": [
    "## Interactive match"
   ]
  },
  {
   "cell_type": "markdown",
   "metadata": {},
   "source": [
    "#### Using the shell (does not work with the notebooks)"
   ]
  },
  {
   "cell_type": "code",
   "execution_count": null,
   "metadata": {},
   "outputs": [],
   "source": [
    "import sys\n",
    "\n",
    "for line in sys.stdin:\n",
    "    if re.search('ab*c', line):    # m/ab*c/\n",
    "        print('-> ' + line, end='')"
   ]
  },
  {
   "cell_type": "markdown",
   "metadata": {},
   "source": [
    "#### Using IPython ipywidgets"
   ]
  },
  {
   "cell_type": "code",
   "execution_count": null,
   "metadata": {},
   "outputs": [],
   "source": [
    "# https://github.com/ipython/ipywidgets\n",
    "import ipywidgets as widgets\n",
    "from IPython.display import display\n",
    "\n",
    "# The input box\n",
    "text = widgets.Text()\n",
    "display(text)\n",
    "\n",
    "def handle_submit(sender):\n",
    "    if re.search('ab*c', text.value):\n",
    "        print('->', text.value)\n",
    "    text.value = ''\n",
    "\n",
    "# Hitting return fires handle_submit\n",
    "text.on_submit(handle_submit)"
   ]
  },
  {
   "cell_type": "markdown",
   "metadata": {},
   "source": [
    "## Nonprintable characters and modifiers\n",
    "#### Start of a line"
   ]
  },
  {
   "cell_type": "code",
   "execution_count": null,
   "metadata": {},
   "outputs": [],
   "source": [
    "# text = sys.stdin.read()\n",
    "text = \"\"\"Sing, O goddess, the anger of Achilles \n",
    "son of Peleus, that brought countless ills upon the Achaeans.\n",
    "\"\"\".split('\\n')\n",
    "for line in text:\n",
    "    match = re.search('^s', line) # m/^s/\n",
    "    if match:\n",
    "        print('-> ' + match.group())"
   ]
  },
  {
   "cell_type": "markdown",
   "metadata": {},
   "source": [
    "#### The case-insensitive modifier"
   ]
  },
  {
   "cell_type": "code",
   "execution_count": null,
   "metadata": {},
   "outputs": [],
   "source": [
    "text = \"\"\"Sing, O goddess, the anger of Achilles \n",
    "son of Peleus, that brought countless ills upon the Achaeans.\n",
    "\"\"\".split('\\n')\n",
    "for line in text:\n",
    "    match = re.search('^s', line, re.I) # m/^s/i\n",
    "    if match:\n",
    "        print('-> ' + match.group())"
   ]
  },
  {
   "cell_type": "markdown",
   "metadata": {
    "collapsed": true
   },
   "source": [
    "#### Case insensitive and multiline: A `\\n` defines a new start of string "
   ]
  },
  {
   "cell_type": "code",
   "execution_count": null,
   "metadata": {},
   "outputs": [],
   "source": [
    "text = \"\"\"Sing, O goddess, the anger of Achilles\n",
    "of Peleus, that brought countless ills upon the Achaeans.\n",
    "\"\"\"\n",
    "match = re.search('^s', text, re.I | re.M) # m/^s/im\n",
    "if match:\n",
    "    print('-> ' + match.group())\n",
    "match = re.search('^o', text, re.I | re.M)\n",
    "if match:\n",
    "    print('-> ' + match.group())"
   ]
  },
  {
   "cell_type": "markdown",
   "metadata": {},
   "source": [
    "#### Getting all the matches"
   ]
  },
  {
   "cell_type": "code",
   "execution_count": null,
   "metadata": {},
   "outputs": [],
   "source": [
    "text = \"\"\"Sing, O goddess, the anger of Achilles \n",
    "son of Peleus, that brought countless ills upon the Achaeans.\n",
    "\"\"\"\n",
    "match_list = re.findall('^s', text, re.I | re.M)\n",
    "print(match_list)"
   ]
  },
  {
   "cell_type": "markdown",
   "metadata": {},
   "source": [
    "## Substitution"
   ]
  },
  {
   "cell_type": "markdown",
   "metadata": {},
   "source": [
    "#### Global replacement: `s/regex/replacement/g`"
   ]
  },
  {
   "cell_type": "code",
   "execution_count": null,
   "metadata": {},
   "outputs": [],
   "source": [
    "text = \"\"\"Sing, O goddess, the anger of Achilles \n",
    "son of Peleus, that brought countless ills upon the Achaeans.\n",
    "\"\"\".split('\\n')\n",
    "for line in text:\n",
    "    if re.search('es+', line):\n",
    "        print(\"Old: \" + line)\n",
    "        # Replaces all the occurrences\n",
    "        line = re.sub('es+', 'ES', line)\n",
    "        print(\"New: \" + line)\n",
    "# s/ab+c/ABC/g"
   ]
  },
  {
   "cell_type": "markdown",
   "metadata": {},
   "source": [
    " \n",
    "#### Just one replacement: s/regex/replacement/"
   ]
  },
  {
   "cell_type": "code",
   "execution_count": null,
   "metadata": {},
   "outputs": [],
   "source": [
    "text = \"\"\"Sing, O goddess, the anger of Achilles \n",
    "son of Peleus, that brought countless ills upon the Achaeans.\n",
    "\"\"\".split('\\n')\n",
    "for line in text:\n",
    "    if re.search('es+', line):\n",
    "        print(\"Old: \" + line)\n",
    "        # Replaces all the occurrences\n",
    "        line = re.sub('es+', 'ES', line, 1)\n",
    "        print(\"New: \" + line)\n",
    "# s/ab+c/ABC/\n"
   ]
  },
  {
   "cell_type": "markdown",
   "metadata": {},
   "source": [
    "## Backreferences"
   ]
  },
  {
   "cell_type": "code",
   "execution_count": null,
   "metadata": {},
   "outputs": [],
   "source": [
    "line = 'abbbcdeeef'\n",
    "match = re.search(r'(.)\\1\\1', line)\n",
    "match.group(1)                # 'b'"
   ]
  },
  {
   "cell_type": "markdown",
   "metadata": {},
   "source": [
    " #### Substitutions `s/(.)\\1\\1/***/g`"
   ]
  },
  {
   "cell_type": "code",
   "execution_count": null,
   "metadata": {},
   "outputs": [],
   "source": [
    "re.sub(r'(.)\\1\\1', '***', 'abbbcdeeef')  # 'a***cd***f'"
   ]
  },
  {
   "cell_type": "markdown",
   "metadata": {},
   "source": [
    "#### Multiple backreferences `m/\\$ *([0-9]+)\\.?([0-9]*)/`"
   ]
  },
  {
   "cell_type": "code",
   "execution_count": null,
   "metadata": {},
   "outputs": [],
   "source": [
    "price = \"We'll buy it for $72.40\"\n",
    "match = re.search('\\$ *([0-9]+)\\.?([0-9]*)', price)\n",
    "match.group() # ’$72.40’ The entire match"
   ]
  },
  {
   "cell_type": "code",
   "execution_count": null,
   "metadata": {},
   "outputs": [],
   "source": [
    "match.group(1) # ’72’ The first group"
   ]
  },
  {
   "cell_type": "code",
   "execution_count": null,
   "metadata": {},
   "outputs": [],
   "source": [
    "match.group(2) # ’40’ The second group"
   ]
  },
  {
   "cell_type": "markdown",
   "metadata": {},
   "source": [
    "#### Substitutions `s/\\$ *([0-9]+)\\.?([0-9]*)/\\1 dollars and \\2 cents/g`"
   ]
  },
  {
   "cell_type": "code",
   "execution_count": null,
   "metadata": {},
   "outputs": [],
   "source": [
    "price = \"We'll buy it for $72.40\"\n",
    "re.sub('\\$ *([0-9]+)\\.?([0-9]*)',\n",
    "       r'\\1 dollars and \\2 cents', price)\n",
    "   # We’ll buy it for 72 dollars and 40 cents"
   ]
  },
  {
   "cell_type": "markdown",
   "metadata": {},
   "source": [
    "#### Why `r`"
   ]
  },
  {
   "cell_type": "code",
   "execution_count": null,
   "metadata": {},
   "outputs": [],
   "source": [
    "'\\1'"
   ]
  },
  {
   "cell_type": "code",
   "execution_count": null,
   "metadata": {},
   "outputs": [],
   "source": [
    "print('\\141')"
   ]
  },
  {
   "cell_type": "code",
   "execution_count": null,
   "metadata": {},
   "outputs": [],
   "source": [
    "r'\\1'"
   ]
  },
  {
   "cell_type": "markdown",
   "metadata": {},
   "source": [
    "## Matching objects"
   ]
  },
  {
   "cell_type": "code",
   "execution_count": null,
   "metadata": {},
   "outputs": [],
   "source": [
    "price = \"We'll buy it for $72.40\"\n",
    "match = re.search('\\$ *([0-9]+)\\.?([0-9]*)', price)"
   ]
  },
  {
   "cell_type": "markdown",
   "metadata": {},
   "source": [
    "#### Input"
   ]
  },
  {
   "cell_type": "code",
   "execution_count": null,
   "metadata": {},
   "outputs": [],
   "source": [
    "match.string            # We’ll buy it for $72.40"
   ]
  },
  {
   "cell_type": "markdown",
   "metadata": {},
   "source": [
    "#### Groups"
   ]
  },
  {
   "cell_type": "code",
   "execution_count": null,
   "metadata": {},
   "outputs": [],
   "source": [
    "match.groups()          # (’72’, ’40’)"
   ]
  },
  {
   "cell_type": "markdown",
   "metadata": {},
   "source": [
    "#### Match objects: The indices"
   ]
  },
  {
   "cell_type": "code",
   "execution_count": null,
   "metadata": {},
   "outputs": [],
   "source": [
    "match.start(0)"
   ]
  },
  {
   "cell_type": "code",
   "execution_count": null,
   "metadata": {},
   "outputs": [],
   "source": [
    "match.end(0)"
   ]
  },
  {
   "cell_type": "markdown",
   "metadata": {},
   "source": [
    "#### Example"
   ]
  },
  {
   "cell_type": "code",
   "execution_count": null,
   "metadata": {},
   "outputs": [],
   "source": [
    "line = \"\"\"Tell me, O muse, of that ingenious hero\n",
    "  who travelled far and wide after he had sacked\n",
    "  the famous town of Troy.\"\"\"\n",
    "match = re.search(',.*,', line, re.S)\n",
    "line[0:match.start()]             # ’Tell me’"
   ]
  },
  {
   "cell_type": "code",
   "execution_count": null,
   "metadata": {},
   "outputs": [],
   "source": [
    "line[match.start():match.end()]   # ’, O muse,’"
   ]
  },
  {
   "cell_type": "code",
   "execution_count": null,
   "metadata": {},
   "outputs": [],
   "source": [
    "line[match.end():]   # ’of that ingenious hero\n",
    "         #  who travelled far and wide after he had sacked\n",
    "         #  the famous town of Troy.’"
   ]
  },
  {
   "cell_type": "markdown",
   "metadata": {},
   "source": [
    "## Concordances: `.{0,15}Nils Holgersson.{0,15}`"
   ]
  },
  {
   "cell_type": "code",
   "execution_count": null,
   "metadata": {},
   "outputs": [],
   "source": [
    "pattern = 'Nils Holgersson'\n",
    "width = 15\n",
    "# .{0,width}pattern.{0,width}\n",
    "\n",
    "('.{{0,{width}}}{pattern}.{{0,{width}}}'\n",
    " .format(pattern=pattern, width=width))"
   ]
  },
  {
   "cell_type": "code",
   "execution_count": null,
   "metadata": {},
   "outputs": [],
   "source": [
    "file_name = '../../corpus/Selma.txt'\n",
    "text = open(file_name).read()\n",
    "text[:20]"
   ]
  },
  {
   "cell_type": "code",
   "execution_count": null,
   "metadata": {},
   "outputs": [],
   "source": [
    "# spaces match tabs and newlines\n",
    "pattern = re.sub(' ', '\\\\s+', pattern)\n",
    "# Replaces newlines with spaces in the text\n",
    "text = re.sub('\\s+', ' ', text)\n",
    "concordance = ('(.{{0,{width}}}{pattern}.{{0,{width}}})'\n",
    "               .format(pattern=pattern, width=width))\n",
    "for match in re.finditer(concordance, text):\n",
    "    print(match.group(1))"
   ]
  }
 ],
 "metadata": {
  "anaconda-cloud": {},
  "kernelspec": {
   "display_name": "Python 3",
   "language": "python",
   "name": "python3"
  },
  "language_info": {
   "codemirror_mode": {
    "name": "ipython",
    "version": 3
   },
   "file_extension": ".py",
   "mimetype": "text/x-python",
   "name": "python",
   "nbconvert_exporter": "python",
   "pygments_lexer": "ipython3",
   "version": "3.6.6"
  }
 },
 "nbformat": 4,
 "nbformat_minor": 1
}
